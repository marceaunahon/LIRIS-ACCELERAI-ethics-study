{
 "cells": [
  {
   "cell_type": "code",
   "execution_count": 1,
   "metadata": {},
   "outputs": [],
   "source": [
    "from choice_situation_GUI import ChoiceSituationGUI\n",
    "from data import read_values_and_situations, store, ChoiceSituation\n",
    "from pairwise_comparison import PairwiseComparison\n",
    "from typing import List\n",
    "import numpy as np\n",
    "import matplotlib.pyplot as plt"
   ]
  },
  {
   "cell_type": "code",
   "execution_count": 2,
   "metadata": {},
   "outputs": [],
   "source": [
    "values, values_name_only, situation_list = read_values_and_situations(\"data/values.csv\", \"data/situations.csv\")"
   ]
  },
  {
   "cell_type": "code",
   "execution_count": 3,
   "metadata": {},
   "outputs": [],
   "source": [
    "interface = ChoiceSituationGUI(situation_list, disp_values=True)\n",
    "interface.mainloop()\n",
    "diff = interface.difficulties\n",
    "choices = interface.choices\n",
    "id = interface.id\n",
    "rel = interface.relevances\n",
    "store(\"notebook/responses.csv\", \"Id\", id, \"Choice\", choices, \"Difficulty\", diff, \"Relevance\", rel)"
   ]
  },
  {
   "cell_type": "code",
   "execution_count": 9,
   "metadata": {},
   "outputs": [
    {
     "name": "stdout",
     "output_type": "stream",
     "text": [
      "[0. 0. 0. 0. 0. 0. 0. 0. 0. 0. 0. 0. 0. 0. 0. 0. 0. 0. 0. 0. 0.]\n",
      "[0.5 0.5 0.5 0.5 0.5 0.5 0.5 0.5 0.5 0.5 0.5 0.5 0.5 0.5 0.5 0.5 0.5 0.5\n",
      " 0.5 0.5 0.5]\n"
     ]
    }
   ],
   "source": [
    "w = np.zeros(len(situation_list))\n",
    "for i in range(len(situation_list)):\n",
    "    w[i] = (5-diff[i])/10\n",
    "interface.set_weights(w)\n",
    "weights = interface.weights\n",
    "print(diff)\n",
    "print(weights)"
   ]
  },
  {
   "cell_type": "code",
   "execution_count": 11,
   "metadata": {},
   "outputs": [],
   "source": [
    "def responses_to_str(choices, situation_list:List[ChoiceSituation]):\n",
    "    choices_str = []\n",
    "    choices_str_simple = []\n",
    "    for i in range(len(choices)):\n",
    "        # if diff[i] == 1.:\n",
    "        #     choices_str.append(f\"{situation_list[i].value1}-{situation_list[i].value2}\")\n",
    "        #     choices_str_simple.append(f\"{situation_list[i].value1}-{situation_list[i].value2}\")\n",
    "        # else :\n",
    "            if choices[i] == 0 : \n",
    "                choices_str.append(f\"{situation_list[i].value1} (against {situation_list[i].value2})\")\n",
    "                choices_str_simple.append(f\"{situation_list[i].value1}\")\n",
    "            if choices[i] == 1 : \n",
    "                choices_str.append(f\"{situation_list[i].value2} (against {situation_list[i].value1})\")\n",
    "                choices_str_simple.append(f\"{situation_list[i].value2}\")\n",
    "    store(\"notebook/responses_str.csv\", \"Id\", id, \"Choice\", choices_str, \"Difficulty\", diff, \"Relevance\", rel)\n",
    "    store(\"notebook/responses_str_simple.csv\", \"Id\", id, \"Choice\", choices_str_simple, \"Difficulty\", diff, \"Relevance\", rel)"
   ]
  },
  {
   "cell_type": "code",
   "execution_count": 12,
   "metadata": {},
   "outputs": [
    {
     "name": "stdout",
     "output_type": "stream",
     "text": [
      "[0. 0. 0. 0. 0. 0. 0. 0. 0. 0. 0. 0. 0. 0. 0. 0. 0. 0. 0. 0. 0.]\n",
      "[0. 0. 0. 0. 0. 0. 0. 0. 0. 0. 0. 0. 0. 0. 0. 0. 0. 0. 0. 0. 0.]\n",
      "[0.5 0.5 0.5 0.5 0.5 0.5 0.5 0.5 0.5 0.5 0.5 0.5 0.5 0.5 0.5 0.5 0.5 0.5\n",
      " 0.5 0.5 0.5]\n"
     ]
    }
   ],
   "source": [
    "responses_to_str(choices, situation_list)\n",
    "print(choices)\n",
    "print(diff)\n",
    "print(weights)"
   ]
  },
  {
   "cell_type": "code",
   "execution_count": 7,
   "metadata": {},
   "outputs": [],
   "source": [
    "pcm = PairwiseComparison(values)\n",
    "pcm_r, pcm_p, pcm_m = pcm.get_raw(situation_list, choices), pcm.get_probability(situation_list, choices, weights), pcm.get_multiplicative()"
   ]
  },
  {
   "cell_type": "code",
   "execution_count": 8,
   "metadata": {},
   "outputs": [
    {
     "name": "stdout",
     "output_type": "stream",
     "text": [
      "['Equite', 'Confort', 'Ecologie', 'Confidentialite', 'Autonomy', 'Securityofsupply', 'Affordability']\n",
      "[[1. 1. 1. 0. 0. 0. 1.]\n",
      " [0. 1. 0. 0. 0. 0. 1.]\n",
      " [0. 1. 1. 0. 0. 0. 0.]\n",
      " [1. 1. 1. 1. 0. 0. 0.]\n",
      " [1. 1. 1. 1. 1. 0. 0.]\n",
      " [1. 1. 1. 1. 1. 1. 0.]\n",
      " [0. 0. 1. 1. 1. 1. 1.]]\n"
     ]
    },
    {
     "data": {
      "text/plain": [
       "[('Securityofsupply', 6.0),\n",
       " ('Autonomy', 5.0),\n",
       " ('Affordability', 5.0),\n",
       " ('Equite', 4.0),\n",
       " ('Confidentialite', 4.0),\n",
       " ('Confort', 2.0),\n",
       " ('Ecologie', 2.0)]"
      ]
     },
     "execution_count": 8,
     "metadata": {},
     "output_type": "execute_result"
    }
   ],
   "source": [
    "print(values_name_only)\n",
    "print(pcm_r)\n",
    "pcm.matrix_to_additive_score(values_name_only , matrix = \"raw\")\n"
   ]
  },
  {
   "cell_type": "code",
   "execution_count": 9,
   "metadata": {},
   "outputs": [
    {
     "name": "stdout",
     "output_type": "stream",
     "text": [
      "['Equite', 'Confort', 'Ecologie', 'Confidentialite', 'Autonomy', 'Securityofsupply', 'Affordability']\n",
      "[[1.  0.8 0.9 0.3 0.1 0.4 0.7]\n",
      " [0.2 1.  0.4 0.  0.2 0.  1. ]\n",
      " [0.1 0.6 1.  0.4 0.1 0.3 0.3]\n",
      " [0.7 1.  0.6 1.  0.4 0.2 0.2]\n",
      " [0.9 0.8 0.9 0.6 1.  0.1 0. ]\n",
      " [0.6 1.  0.7 0.8 0.9 1.  0. ]\n",
      " [0.3 0.  0.7 0.8 1.  1.  1. ]]\n"
     ]
    },
    {
     "data": {
      "text/plain": [
       "[('Securityofsupply', 5.0),\n",
       " ('Affordability', 4.8),\n",
       " ('Autonomy', 4.3),\n",
       " ('Equite', 4.2),\n",
       " ('Confidentialite', 4.1),\n",
       " ('Confort', 2.8),\n",
       " ('Ecologie', 2.8)]"
      ]
     },
     "execution_count": 9,
     "metadata": {},
     "output_type": "execute_result"
    }
   ],
   "source": [
    "print(values_name_only)\n",
    "print(pcm_p)\n",
    "pcm.matrix_to_additive_score(values_name_only , matrix = \"probability\")"
   ]
  },
  {
   "cell_type": "code",
   "execution_count": 17,
   "metadata": {},
   "outputs": [
    {
     "name": "stdout",
     "output_type": "stream",
     "text": [
      "['Equite', 'Confort', 'Ecologie', 'Confidentialite', 'Autonomy', 'Securityofsupply', 'Affordability']\n",
      "[[1.00000000e+00 4.00000000e+00 9.00000000e+00 4.28571429e-01\n",
      "  1.11111111e-01 6.66666667e-01 2.33333333e+00]\n",
      " [2.50000000e-01 1.00000000e+00 6.66666667e-01 1.00000000e-02\n",
      "  2.50000000e-01 1.00000000e-02 1.00000000e+02]\n",
      " [1.11111111e-01 1.50000000e+00 1.00000000e+00 6.66666667e-01\n",
      "  1.11111111e-01 4.28571429e-01 4.28571429e-01]\n",
      " [2.33333333e+00 1.00000000e+02 1.50000000e+00 1.00000000e+00\n",
      "  6.66666667e-01 2.50000000e-01 2.50000000e-01]\n",
      " [9.00000000e+00 4.00000000e+00 9.00000000e+00 1.50000000e+00\n",
      "  1.00000000e+00 1.11111111e-01 1.00000000e-02]\n",
      " [1.50000000e+00 1.00000000e+02 2.33333333e+00 4.00000000e+00\n",
      "  9.00000000e+00 1.00000000e+00 1.00000000e-02]\n",
      " [4.28571429e-01 0.00000000e+00 2.33333333e+00 4.00000000e+00\n",
      "  1.00000000e+02 1.00000000e+02 1.00000000e+00]]\n"
     ]
    },
    {
     "data": {
      "text/plain": [
       "[('Affordability', 207.76190476190476),\n",
       " ('Securityofsupply', 117.84333333333333),\n",
       " ('Confidentialite', 106.0),\n",
       " ('Confort', 102.18666666666667),\n",
       " ('Autonomy', 24.621111111111116),\n",
       " ('Equite', 17.53968253968254),\n",
       " ('Ecologie', 4.246031746031746)]"
      ]
     },
     "execution_count": 17,
     "metadata": {},
     "output_type": "execute_result"
    }
   ],
   "source": [
    "print(values_name_only)\n",
    "print(pcm_m)\n",
    "pcm.matrix_to_additive_score(values_name_only , matrix = \"multiplicative\")"
   ]
  },
  {
   "cell_type": "code",
   "execution_count": 11,
   "metadata": {},
   "outputs": [
    {
     "name": "stdout",
     "output_type": "stream",
     "text": [
      "[0.15174727+0.j 0.1025454 +0.j 0.09177511+0.j 0.14042913+0.j\n",
      " 0.14327579+0.j 0.17736331+0.j 0.19286399+0.j]\n"
     ]
    }
   ],
   "source": [
    "eigenvalues_p, eigenvectors_p = np.linalg.eig(pcm_p)\n",
    "principal_eigenvector_p = eigenvectors_p[:, 0]\n",
    "eigen_scores_p = principal_eigenvector_p / np.sum(principal_eigenvector_p)\n",
    "print(eigen_scores_p)"
   ]
  },
  {
   "cell_type": "code",
   "execution_count": 12,
   "metadata": {},
   "outputs": [
    {
     "name": "stdout",
     "output_type": "stream",
     "text": [
      "[0.01780703+0.j 0.23972744+0.j 0.00693252+0.j 0.23037732+0.j\n",
      " 0.01484098+0.j 0.23911338+0.j 0.25120132+0.j]\n"
     ]
    }
   ],
   "source": [
    "eigenvalues_m, eigenvectors_m = np.linalg.eig(pcm_m)\n",
    "principal_eigenvector_m = eigenvectors_m[:, 0]\n",
    "eigen_scores_m = principal_eigenvector_m / np.sum(principal_eigenvector_m)\n",
    "print(eigen_scores_m)"
   ]
  },
  {
   "cell_type": "code",
   "execution_count": 13,
   "metadata": {},
   "outputs": [
    {
     "name": "stdout",
     "output_type": "stream",
     "text": [
      "[0.14562875+0.j 0.09197747+0.j 0.03797359+0.j 0.11377521+0.j\n",
      " 0.16074816+0.j 0.22711425+0.j 0.22278257+0.j]\n"
     ]
    }
   ],
   "source": [
    "eigenvalues_r, eigenvectors_r = np.linalg.eig(pcm_r)\n",
    "principal_eigenvector_r = eigenvectors_r[:, 0]\n",
    "eigen_scores_r = principal_eigenvector_r / np.sum(principal_eigenvector_r)\n",
    "print(eigen_scores_r)"
   ]
  },
  {
   "cell_type": "code",
   "execution_count": 25,
   "metadata": {},
   "outputs": [
    {
     "name": "stderr",
     "output_type": "stream",
     "text": [
      "c:\\Python37\\lib\\site-packages\\matplotlib\\transforms.py:775: ComplexWarning: Casting complex values to real discards the imaginary part\n",
      "  points = np.asarray(points, float)\n"
     ]
    },
    {
     "data": {
      "image/png": "[encoded data removed]",
      "text/plain": [
       "<Figure size 864x288 with 1 Axes>"
      ]
     },
     "metadata": {
      "needs_background": "light"
     },
     "output_type": "display_data"
    }
   ],
   "source": [
    "plt.figure(figsize = (12, 4))\n",
    "plt.bar(values_name_only, eigen_scores_r)\n",
    "plt.show()"
   ]
  },
  {
   "cell_type": "code",
   "execution_count": 22,
   "metadata": {},
   "outputs": [
    {
     "name": "stderr",
     "output_type": "stream",
     "text": [
      "c:\\Python37\\lib\\site-packages\\matplotlib\\transforms.py:775: ComplexWarning: Casting complex values to real discards the imaginary part\n",
      "  points = np.asarray(points, float)\n"
     ]
    },
    {
     "data": {
      "image/png": "[encoded data removed]",
      "text/plain": [
       "<Figure size 864x288 with 1 Axes>"
      ]
     },
     "metadata": {
      "needs_background": "light"
     },
     "output_type": "display_data"
    }
   ],
   "source": [
    "plt.figure(figsize = (12, 4))\n",
    "plt.bar(values_name_only, eigen_scores_p)\n",
    "plt.show()"
   ]
  },
  {
   "cell_type": "code",
   "execution_count": 24,
   "metadata": {},
   "outputs": [
    {
     "name": "stderr",
     "output_type": "stream",
     "text": [
      "c:\\Python37\\lib\\site-packages\\matplotlib\\transforms.py:775: ComplexWarning: Casting complex values to real discards the imaginary part\n",
      "  points = np.asarray(points, float)\n"
     ]
    },
    {
     "data": {
      "image/png": "[encoded data removed]",
      "text/plain": [
       "<Figure size 864x288 with 1 Axes>"
      ]
     },
     "metadata": {
      "needs_background": "light"
     },
     "output_type": "display_data"
    }
   ],
   "source": [
    "plt.figure(figsize = (12, 4))\n",
    "plt.bar(values_name_only, eigen_scores_m)\n",
    "plt.show()"
   ]
  }
 ],
 "metadata": {
  "kernelspec": {
   "display_name": "Python 3",
   "language": "python",
   "name": "python3"
  },
  "language_info": {
   "codemirror_mode": {
    "name": "ipython",
    "version": 3
   },
   "file_extension": ".py",
   "mimetype": "text/x-python",
   "name": "python",
   "nbconvert_exporter": "python",
   "pygments_lexer": "ipython3",
   "version": "3.7.3"
  },
  "orig_nbformat": 4
 },
 "nbformat": 4,
 "nbformat_minor": 2
}
